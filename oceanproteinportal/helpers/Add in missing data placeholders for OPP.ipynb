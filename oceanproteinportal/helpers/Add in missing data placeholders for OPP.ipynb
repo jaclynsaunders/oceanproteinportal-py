{
 "cells": [
  {
   "cell_type": "code",
   "execution_count": 2,
   "metadata": {},
   "outputs": [],
   "source": [
    "import pandas as pd"
   ]
  },
  {
   "cell_type": "code",
   "execution_count": 3,
   "metadata": {},
   "outputs": [],
   "source": [
    "inputFile = \"OPP_proteins.tsv\""
   ]
  },
  {
   "cell_type": "code",
   "execution_count": 4,
   "metadata": {},
   "outputs": [],
   "source": [
    "df_OPPprot = pd.read_csv(inputFile, delimiter=\"\\t\")"
   ]
  },
  {
   "cell_type": "code",
   "execution_count": 5,
   "metadata": {},
   "outputs": [],
   "source": [
    "df_OPPprot[\"Stn_depth\"] = df_OPPprot[\"station_id\"].astype(str) + \"_\" + df_OPPprot[\"depth_m\"].astype(str)"
   ]
  },
  {
   "cell_type": "code",
   "execution_count": 6,
   "metadata": {},
   "outputs": [
    {
     "data": {
      "text/plain": [
       "Index(['sample_id', 'cruise_id', 'station_id', 'latitude_dd', 'longitude_dd',\n",
       "       'depth_m', 'date_y-m-d', 'time_h-m-s', 'maximum_filter_size_microns',\n",
       "       'minimum_filter_size_microns', 'protein_id', 'protein_name',\n",
       "       'spectral_count', 'molecular_weight_kDa', 'ncbi_id', 'ncbi_name',\n",
       "       'kegg_id', 'kegg_description', 'kegg_pathway', 'pfams_id', 'pfams_name',\n",
       "       'uniprot_id', 'enzyme_comm_id', 'other_identified_proteins',\n",
       "       'Stn_depth'],\n",
       "      dtype='object')"
      ]
     },
     "execution_count": 6,
     "metadata": {},
     "output_type": "execute_result"
    }
   ],
   "source": [
    "df_OPPprot.columns"
   ]
  },
  {
   "cell_type": "code",
   "execution_count": 7,
   "metadata": {},
   "outputs": [],
   "source": [
    "sampleInfo = df_OPPprot[['sample_id', 'cruise_id', 'station_id', 'latitude_dd', 'longitude_dd',\n",
    "       'depth_m', 'date_y-m-d', 'time_h-m-s', 'maximum_filter_size_microns',\n",
    "       'minimum_filter_size_microns','Stn_depth']]"
   ]
  },
  {
   "cell_type": "code",
   "execution_count": 8,
   "metadata": {},
   "outputs": [
    {
     "data": {
      "text/plain": [
       "53506"
      ]
     },
     "execution_count": 8,
     "metadata": {},
     "output_type": "execute_result"
    }
   ],
   "source": [
    "len(sampleInfo)"
   ]
  },
  {
   "cell_type": "code",
   "execution_count": 9,
   "metadata": {},
   "outputs": [],
   "source": [
    "UsampleInfo = sampleInfo.drop_duplicates()"
   ]
  },
  {
   "cell_type": "code",
   "execution_count": 10,
   "metadata": {},
   "outputs": [
    {
     "data": {
      "text/plain": [
       "40"
      ]
     },
     "execution_count": 10,
     "metadata": {},
     "output_type": "execute_result"
    }
   ],
   "source": [
    "len(UsampleInfo)"
   ]
  },
  {
   "cell_type": "code",
   "execution_count": 11,
   "metadata": {},
   "outputs": [],
   "source": [
    "proteinInfo = df_OPPprot[['protein_id', 'protein_name',\n",
    "        'molecular_weight_kDa', 'ncbi_id', 'ncbi_name',\n",
    "       'kegg_id', 'kegg_description', 'kegg_pathway', 'pfams_id', 'pfams_name',\n",
    "       'uniprot_id', 'enzyme_comm_id', 'other_identified_proteins']]"
   ]
  },
  {
   "cell_type": "code",
   "execution_count": 12,
   "metadata": {},
   "outputs": [
    {
     "data": {
      "text/plain": [
       "53506"
      ]
     },
     "execution_count": 12,
     "metadata": {},
     "output_type": "execute_result"
    }
   ],
   "source": [
    "len(proteinInfo)"
   ]
  },
  {
   "cell_type": "code",
   "execution_count": 13,
   "metadata": {},
   "outputs": [],
   "source": [
    "UproteinInfo = proteinInfo.drop_duplicates()"
   ]
  },
  {
   "cell_type": "code",
   "execution_count": 14,
   "metadata": {},
   "outputs": [
    {
     "data": {
      "text/plain": [
       "7999"
      ]
     },
     "execution_count": 14,
     "metadata": {},
     "output_type": "execute_result"
    }
   ],
   "source": [
    "len(UproteinInfo)"
   ]
  },
  {
   "cell_type": "code",
   "execution_count": 15,
   "metadata": {},
   "outputs": [],
   "source": [
    "subdf = df_OPPprot[['protein_id', 'Stn_depth', 'spectral_count']]"
   ]
  },
  {
   "cell_type": "code",
   "execution_count": 16,
   "metadata": {},
   "outputs": [],
   "source": [
    "subdf_pivot = subdf.pivot(index='protein_id', columns='Stn_depth', values='spectral_count')"
   ]
  },
  {
   "cell_type": "code",
   "execution_count": 17,
   "metadata": {},
   "outputs": [],
   "source": [
    "subdf_pivot = subdf_pivot.fillna(0)"
   ]
  },
  {
   "cell_type": "code",
   "execution_count": 18,
   "metadata": {},
   "outputs": [],
   "source": [
    "subdf_pivot = subdf_pivot.reset_index()"
   ]
  },
  {
   "cell_type": "code",
   "execution_count": 19,
   "metadata": {},
   "outputs": [
    {
     "data": {
      "text/plain": [
       "Index(['protein_id', '12_120', '12_1900', '12_300', '12_40', '1_120', '1_200',\n",
       "       '1_300', '1_400', '1_50', '1_90', '3_120', '3_150', '3_200', '3_250',\n",
       "       '3_300', '3_40', '3_400', '3_500', '3_550', '3_60', '3_600', '3_800',\n",
       "       '5_120', '5_20', '5_200', '5_300', '5_400', '5_50', '5_500', '5_600',\n",
       "       '5_80', '6_200', '6_40', '6_80', '8_200', '8_40', '8_70', '9_380',\n",
       "       '9_40', '9_70'],\n",
       "      dtype='object', name='Stn_depth')"
      ]
     },
     "execution_count": 19,
     "metadata": {},
     "output_type": "execute_result"
    }
   ],
   "source": [
    "subdf_pivot.columns"
   ]
  },
  {
   "cell_type": "code",
   "execution_count": 24,
   "metadata": {},
   "outputs": [],
   "source": [
    "colList = subdf_pivot.columns.tolist()\n",
    "colList = colList[1:]"
   ]
  },
  {
   "cell_type": "code",
   "execution_count": 22,
   "metadata": {},
   "outputs": [],
   "source": [
    "subdf_melt = pd.melt(subdf_pivot, id_vars=[\"protein_id\"], value_vars=colList)"
   ]
  },
  {
   "cell_type": "code",
   "execution_count": 46,
   "metadata": {},
   "outputs": [],
   "source": [
    "subdf_melt = subdf_melt.rename(columns={\"value\":\"spectral_count\"})"
   ]
  },
  {
   "cell_type": "code",
   "execution_count": 48,
   "metadata": {},
   "outputs": [
    {
     "data": {
      "text/plain": [
       "319960"
      ]
     },
     "execution_count": 48,
     "metadata": {},
     "output_type": "execute_result"
    }
   ],
   "source": [
    "len(subdf_melt)"
   ]
  },
  {
   "cell_type": "code",
   "execution_count": 63,
   "metadata": {},
   "outputs": [],
   "source": [
    "df_mergeProtein = pd.merge(subdf_melt, UproteinInfo, left_on=\"protein_id\", right_on=\"protein_id\")"
   ]
  },
  {
   "cell_type": "code",
   "execution_count": 64,
   "metadata": {},
   "outputs": [
    {
     "data": {
      "text/plain": [
       "319960"
      ]
     },
     "execution_count": 64,
     "metadata": {},
     "output_type": "execute_result"
    }
   ],
   "source": [
    "len(df_mergeProtein)"
   ]
  },
  {
   "cell_type": "code",
   "execution_count": 69,
   "metadata": {},
   "outputs": [],
   "source": [
    "df_mergeProteinSample = pd.merge(df_mergeProtein, UsampleInfo, left_on='Stn_depth', right_on='Stn_depth')"
   ]
  },
  {
   "cell_type": "code",
   "execution_count": 70,
   "metadata": {},
   "outputs": [
    {
     "data": {
      "text/plain": [
       "319960"
      ]
     },
     "execution_count": 70,
     "metadata": {},
     "output_type": "execute_result"
    }
   ],
   "source": [
    "len(df_mergeProteinSample)"
   ]
  },
  {
   "cell_type": "code",
   "execution_count": 72,
   "metadata": {},
   "outputs": [],
   "source": [
    "df_out = df_mergeProteinSample[['sample_id', 'cruise_id', 'station_id', 'latitude_dd', 'longitude_dd',\n",
    "       'depth_m', 'date_y-m-d', 'time_h-m-s', 'maximum_filter_size_microns',\n",
    "       'minimum_filter_size_microns', 'protein_id', 'protein_name',\n",
    "       'spectral_count', 'molecular_weight_kDa', 'ncbi_id', 'ncbi_name',\n",
    "       'kegg_id', 'kegg_description', 'kegg_pathway', 'pfams_id', 'pfams_name',\n",
    "       'uniprot_id', 'enzyme_comm_id', 'other_identified_proteins']]"
   ]
  },
  {
   "cell_type": "code",
   "execution_count": 73,
   "metadata": {},
   "outputs": [
    {
     "data": {
      "text/plain": [
       "319960"
      ]
     },
     "execution_count": 73,
     "metadata": {},
     "output_type": "execute_result"
    }
   ],
   "source": [
    "len(df_out)"
   ]
  },
  {
   "cell_type": "code",
   "execution_count": 75,
   "metadata": {},
   "outputs": [],
   "source": [
    "df_out.to_csv(\"OPP_proteins_update.tsv\", index=False, sep=\"\\t\")"
   ]
  }
 ],
 "metadata": {
  "kernelspec": {
   "display_name": "Python 3",
   "language": "python",
   "name": "python3"
  },
  "language_info": {
   "codemirror_mode": {
    "name": "ipython",
    "version": 3
   },
   "file_extension": ".py",
   "mimetype": "text/x-python",
   "name": "python",
   "nbconvert_exporter": "python",
   "pygments_lexer": "ipython3",
   "version": "3.6.8"
  },
  "toc": {
   "base_numbering": 1,
   "nav_menu": {},
   "number_sections": false,
   "sideBar": false,
   "skip_h1_title": false,
   "title_cell": "Table of Contents",
   "title_sidebar": "Contents",
   "toc_cell": false,
   "toc_position": {},
   "toc_section_display": false,
   "toc_window_display": false
  }
 },
 "nbformat": 4,
 "nbformat_minor": 2
}
